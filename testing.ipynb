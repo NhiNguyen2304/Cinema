{
 "cells": [
  {
   "cell_type": "code",
   "execution_count": 1,
   "metadata": {},
   "outputs": [],
   "source": [
    "import random\n",
    "import csv\n",
    "from cinema_collection import LineCollection, Cinema\n",
    "from customer import Customer\n",
    "from binary_search_tree import BTree\n",
    "from movie_collection import MovieCollection, Movie"
   ]
  },
  {
   "cell_type": "markdown",
   "metadata": {},
   "source": [
    "# Testing for Customer data algorithm (Binary Search Tree)"
   ]
  },
  {
   "cell_type": "markdown",
   "metadata": {},
   "source": [
    "##### Testing for insert Customer into Binary Search Tree"
   ]
  },
  {
   "cell_type": "code",
   "execution_count": null,
   "metadata": {},
   "outputs": [],
   "source": [
    "c0 = Customer('Nina', 'Nguyen','0450343022', 'Paypal', random.randint(1, 10))\n",
    "tree = BTree(c0)"
   ]
  },
  {
   "cell_type": "code",
   "execution_count": null,
   "metadata": {},
   "outputs": [],
   "source": [
    "# Checking for insert correct root item\n",
    "print(tree.key)"
   ]
  },
  {
   "cell_type": "code",
   "execution_count": null,
   "metadata": {},
   "outputs": [],
   "source": [
    "c1 = Customer('Jim', 'Tomkinson', '0450343234', 'Paypal', 5)\n",
    "c2 = Customer('Richy', 'AAAAA', '13434343', 'Cash', 9)\n",
    "c3 = Customer('Nina', 'Aguyen','0450343022', 'Paypal', 0)\n",
    "c4 = Customer('Apple', 'Zruit','3243434334', 'Paypal', 6)\n",
    "c5 = Customer('Apple', 'Nguyen','4324342', 'Paypal', 3)\n",
    "c6 = Customer('Orange', 'Yran', '0450343234', 'Paypal', 1)\n",
    "c7 = Customer('Hope', 'Pomkinson', '13438343', 'Cash', 7)\n",
    "c8 = Customer('Gigi', 'Bguyen','0450342022', 'Paypal', 8)\n",
    "c9 = Customer('Hadid', 'Bert','34234541454', 'Paypal', 2)\n",
    "tree.insert(c1)\n",
    "tree.insert(c2)\n",
    "tree.insert(c3)\n",
    "tree.insert(c4)\n",
    "tree.insert(c5)\n",
    "tree.insert(c6)\n",
    "tree.insert(c7)\n",
    "tree.insert(c8)\n",
    "tree.insert(c9)"
   ]
  },
  {
   "cell_type": "code",
   "execution_count": null,
   "metadata": {},
   "outputs": [],
   "source": [
    "# print(tree.left_child)\n",
    "# print(tree.right_child)\n",
    "# print(tree.left_child.right_child)\n",
    "# print(tree.left_child.right_child.right_child)\n",
    "\n",
    "## Checking inserted binary search tree is correct by printing out\n",
    "tree.display()"
   ]
  },
  {
   "cell_type": "markdown",
   "metadata": {},
   "source": [
    "##### Testing for search and Delete in Customer Binary Search Tree"
   ]
  },
  {
   "cell_type": "code",
   "execution_count": null,
   "metadata": {},
   "outputs": [],
   "source": [
    "# True case\n",
    "print(tree.search(Customer('Jim','Tomkinson','','','')))\n",
    "\n",
    "# False case\n",
    "print(tree.search(Customer('Jimmmmm','AAAAA','','','')))"
   ]
  },
  {
   "cell_type": "code",
   "execution_count": null,
   "metadata": {},
   "outputs": [],
   "source": [
    "# This test case for search and delete exist customer\n",
    "print('Search before ####')\n",
    "print(tree.search(Customer('Nina','Aguyen','','','')))\n",
    "tree.delete(c3)\n",
    "print('Search after ####')\n",
    "print(tree.search(Customer('Nina','Aguyen','','','')))"
   ]
  },
  {
   "cell_type": "code",
   "execution_count": null,
   "metadata": {},
   "outputs": [],
   "source": [
    "# This test case for search and delete non exist customer\n",
    "print('Search before ####')\n",
    "print(tree.search(Customer('Nina','BBBBBB','','','')))\n",
    "tree.delete(c3)\n",
    "print('Search after ####')\n",
    "print(tree.search(Customer('Nina','BBBBBB','','','')))"
   ]
  },
  {
   "cell_type": "markdown",
   "metadata": {},
   "source": [
    "##### Testing for insert 1000 customers from a csv file has 1000 rows"
   ]
  },
  {
   "cell_type": "code",
   "execution_count": null,
   "metadata": {},
   "outputs": [],
   "source": [
    "c0 = Customer('Nina', 'Nguyen','0450343022', 'Paypal', 9)\n",
    "# inital binary search tree with root\n",
    "db_customer = BTree(c0)\n",
    "# Db csv file with 1000 rows\n",
    "with open('db.csv', newline='') as csv_file:\n",
    "    reader = csv.reader(csv_file)\n",
    "    next(reader, None)  # Skip the header.\n",
    "    # Unpack the row directly in the head of the for loop.\n",
    "    for fname, lname, phone, payment_method, screenNo in reader:\n",
    "        # Convert the numbers to floats.\n",
    "        fname = fname\n",
    "        lname = lname\n",
    "        phone = phone\n",
    "        payment_method = payment_method\n",
    "        screenNo = screenNo\n",
    "        # Now create the Student instance and append it to the list.\n",
    "        db_customer.insert(Customer(fname, lname, phone, payment_method, screenNo))"
   ]
  },
  {
   "cell_type": "code",
   "execution_count": null,
   "metadata": {},
   "outputs": [],
   "source": [
    "print(db_customer.key)\n",
    "print(db_customer.left_child)\n",
    "print(db_customer.left_child.left_child)\n",
    "print(db_customer.right_child)\n",
    "print(db_customer.right_child.right_child)"
   ]
  },
  {
   "cell_type": "code",
   "execution_count": null,
   "metadata": {},
   "outputs": [],
   "source": [
    "## Validate search exist customer\n",
    "print(db_customer.search(Customer('Tito', 'Whipple', '','',0)))"
   ]
  },
  {
   "cell_type": "markdown",
   "metadata": {},
   "source": [
    "# Testing checking customer no of screen (Serving customer)"
   ]
  },
  {
   "cell_type": "code",
   "execution_count": null,
   "metadata": {},
   "outputs": [],
   "source": [
    "c1 = Customer('Jim', 'Tomkinson', '0450343234', 'Paypal', 5)\n",
    "c2 = Customer('Richy', 'AAAAA', '13434343', 'Cash', 9)\n",
    "c3 = Customer('Nina', 'Aguyen','0450343022', 'Paypal', 0)\n",
    "c4 = Customer('Apple', 'Zruit','3243434334', 'Paypal', 6)\n",
    "c5 = Customer('Apple', 'Nguyen','4324342', 'Paypal', 3)\n",
    "c6 = Customer('Orange', 'Yran', '0450343234', 'Paypal', 1)\n",
    "c7 = Customer('Hope', 'Pomkinson', '13438343', 'Cash', 7)\n",
    "c8 = Customer('Gigi', 'Bguyen','0450342022', 'Paypal', 8)\n",
    "c9 = Customer('Hadid', 'Bert','34234541454', 'Paypal', 9)"
   ]
  },
  {
   "cell_type": "code",
   "execution_count": null,
   "metadata": {},
   "outputs": [],
   "source": [
    "tree = BTree(c1)\n",
    "tree.insert(c2)\n",
    "tree.insert(c3)\n",
    "tree.insert(c4)\n",
    "tree.insert(c5)\n",
    "tree.insert(c6)\n",
    "tree.insert(c7)\n",
    "tree.insert(c8)\n",
    "tree.insert(c9)"
   ]
  },
  {
   "cell_type": "code",
   "execution_count": null,
   "metadata": {},
   "outputs": [],
   "source": [
    "# Test case for a free ticket\n",
    "checking_customer_2 = Customer('Hadid', 'Bert', '', '', '')\n",
    "\n",
    "cus_db = tree.search(checking_customer_2)\n",
    "if cus_db.get_no_of_screen() == 9:\n",
    "    print(\"Receive a free ticket\")\n",
    "else:\n",
    "    print(f'Customer no of screen: {cus_db.get_no_of_screen()}')"
   ]
  },
  {
   "cell_type": "code",
   "execution_count": null,
   "metadata": {},
   "outputs": [],
   "source": [
    "# test case for non-free ticket\n",
    "checking_customer = Customer('Jim', 'Tomkinson', '', '', '')\n",
    "\n",
    "cus = tree.search(checking_customer)\n",
    "if cus.get_no_of_screen() == 9:\n",
    "    print(\"Receive a free ticket\")\n",
    "else:\n",
    "    print(f'Customer no of screen: {cus.get_no_of_screen()}')"
   ]
  },
  {
   "cell_type": "markdown",
   "metadata": {},
   "source": [
    "# Testing for waiting line customer (QUEUE data structure)"
   ]
  },
  {
   "cell_type": "markdown",
   "metadata": {},
   "source": [
    "#### Test case for insert waiting line with 9 customers"
   ]
  },
  {
   "cell_type": "code",
   "execution_count": null,
   "metadata": {},
   "outputs": [],
   "source": [
    "wc1 = Customer('Jim', 'Tran', '0450343234', 'Paypal', 0)\n",
    "wc2 = Customer('Richy', 'Tomkinson', '13434343', 'Cash', 0)\n",
    "wc3 = Customer('Nina', 'NNguyen','0450343022', 'Paypal', 0)\n",
    "wc4 = Customer('Coco', 'Tran','34234545454', 'Paypal', 0)\n",
    "wc5 = Customer('Apple', 'Nguyen','4324342', 'Paypal', 0)\n",
    "wc6 = Customer('Orange', 'Tran', '0450343234', 'Paypal', 0)\n",
    "wc7 = Customer('Hope', 'Tomkinson', '13438343', 'Cash', 0)\n",
    "wc8 = Customer('Gigi', 'NNguyen','0450342022', 'Paypal', 0)\n",
    "wc9 = Customer('Hadid', 'Bert','34234541454', 'Paypal', 0)"
   ]
  },
  {
   "cell_type": "code",
   "execution_count": null,
   "metadata": {},
   "outputs": [],
   "source": [
    "# Checking line when line is empty\n",
    "line = LineCollection()\n",
    "line.isEmpty()\n"
   ]
  },
  {
   "cell_type": "code",
   "execution_count": null,
   "metadata": {},
   "outputs": [],
   "source": [
    "# Test case: add a customer and dequeue that customer\n",
    "# => Line should empty\n",
    "wc0 = Customer('Nina', 'Nguyen','0450343022', 'Paypal', 0)\n",
    "line.add_to_line(wc0)\n",
    "customer_in_queue = line.pick_customer()\n",
    "print(customer_in_queue)\n",
    "line.isEmpty()"
   ]
  },
  {
   "cell_type": "code",
   "execution_count": null,
   "metadata": {},
   "outputs": [],
   "source": [
    "# Add list of customers\n",
    "# Dequeue all customers => Line should empty now\n",
    "line.add_to_line(wc1)\n",
    "line.add_to_line(wc2)\n",
    "line.add_to_line(wc3)\n",
    "\n",
    "print(line.pick_customer())\n",
    "print(line.pick_customer())\n",
    "print(line.pick_customer())\n",
    "\n",
    "line.isEmpty()\n",
    "\n"
   ]
  },
  {
   "cell_type": "code",
   "execution_count": null,
   "metadata": {},
   "outputs": [],
   "source": [
    "# Add list of 9 customers\n",
    "# Dequeue 8 customers => Line SHOULD NOT empty now\n",
    "\n",
    "line = LineCollection()\n",
    "line.add_to_line(wc1)\n",
    "line.add_to_line(wc2)\n",
    "line.add_to_line(wc3)\n",
    "line.add_to_line(wc4)\n",
    "line.add_to_line(wc5)\n",
    "line.add_to_line(wc6)\n",
    "line.add_to_line(wc7)\n",
    "line.add_to_line(wc8)\n",
    "line.add_to_line(wc9)\n",
    "# checking for line with 9 customers\n",
    "print(len(line.waiting_line.items))\n",
    "\n",
    "# Checking for dequeue with correctly order FIFO\n",
    "print(line.pick_customer())\n",
    "print(line.pick_customer())\n",
    "print(line.pick_customer())\n",
    "print(line.pick_customer())\n",
    "print(line.pick_customer())\n",
    "print(line.pick_customer())\n",
    "print(line.pick_customer())\n",
    "print(line.pick_customer())\n",
    "\n",
    "# checking for line with 1 customer\n",
    "print(len(line.waiting_line.items))\n",
    "line.isEmpty()"
   ]
  },
  {
   "cell_type": "markdown",
   "metadata": {},
   "source": [
    "### Testing for servicing customer. First come first serve strategy. With different no of customers in line (cinema capacity = 10)"
   ]
  },
  {
   "cell_type": "markdown",
   "metadata": {},
   "source": [
    "##### Test case number of customers in line > cinema capacity"
   ]
  },
  {
   "cell_type": "code",
   "execution_count": null,
   "metadata": {},
   "outputs": [],
   "source": [
    "wc1 = Customer('Jim', 'Tran', '0450343234', 'Paypal', 0)\n",
    "wc2 = Customer('Richy', 'Tomkinson', '13434343', 'Cash', 0)\n",
    "wc3 = Customer('Nina', 'NNguyen','0450343022', 'Paypal', 0)\n",
    "wc4 = Customer('Coco', 'Tran','34234545454', 'Paypal', 0)\n",
    "wc5 = Customer('Apple', 'Nguyen','4324342', 'Paypal', 0)\n",
    "wc6 = Customer('Orange', 'Tran', '0450343234', 'Paypal', 0)\n",
    "wc7 = Customer('Hope', 'Tomkinson', '13438343', 'Cash', 0)\n",
    "wc8 = Customer('Gigi', 'NNguyen','0450342022', 'Paypal', 0)\n",
    "wc9 = Customer('Hadid', 'Bert','34234541454', 'Paypal', 0)\n",
    "wc10 = Customer('Pep', 'Homkinson', '13438343', 'Cash', 0)\n",
    "wc11 = Customer('Tin', 'Albetr','0450342022', 'Paypal', 0)\n",
    "wc12 = Customer('Connor', 'Mc','34234541454', 'Paypal', 0)\n",
    "\n",
    "\n",
    "line2 = LineCollection()\n",
    "line2.add_to_line(wc1)\n",
    "line2.add_to_line(wc2)\n",
    "line2.add_to_line(wc3)\n",
    "line2.add_to_line(wc4)\n",
    "line2.add_to_line(wc5)\n",
    "line2.add_to_line(wc6)\n",
    "line2.add_to_line(wc7)\n",
    "line2.add_to_line(wc8)\n",
    "line2.add_to_line(wc9)\n",
    "line2.add_to_line(wc10)\n",
    "line2.add_to_line(wc11)\n",
    "line2.add_to_line(wc12)\n",
    "\n",
    "# Check customers in line => expected 12\n",
    "len(line2.waiting_line.items)"
   ]
  },
  {
   "cell_type": "code",
   "execution_count": null,
   "metadata": {},
   "outputs": [],
   "source": [
    "# Servicing customers with cinema capacity\n",
    "# Test case: capacity = 10. Receive 10 customer only\n",
    "cinema = Cinema()\n",
    "\n",
    "cinema.add_customer(line2)\n",
    "\n",
    "for cus in cinema.seat:\n",
    "    print(cus)"
   ]
  },
  {
   "cell_type": "code",
   "execution_count": null,
   "metadata": {},
   "outputs": [],
   "source": [
    "# Check left customer in Line => expected 2\n",
    "len(line2.waiting_line.items)"
   ]
  },
  {
   "cell_type": "code",
   "execution_count": null,
   "metadata": {},
   "outputs": [],
   "source": [
    "line2.isEmpty()"
   ]
  },
  {
   "cell_type": "code",
   "execution_count": null,
   "metadata": {},
   "outputs": [],
   "source": [
    "# Clear line\n",
    "line2.clear_line()\n",
    "\n",
    "line2.isEmpty()"
   ]
  },
  {
   "cell_type": "markdown",
   "metadata": {},
   "source": [
    "##### Test case number of customers in line < cinema capacity"
   ]
  },
  {
   "cell_type": "code",
   "execution_count": null,
   "metadata": {},
   "outputs": [],
   "source": [
    "wc1 = Customer('Jim', 'Tran', '0450343234', 'Paypal', 0)\n",
    "wc2 = Customer('Richy', 'Tomkinson', '13434343', 'Cash', 0)\n",
    "wc3 = Customer('Nina', 'NNguyen','0450343022', 'Paypal', 0)"
   ]
  },
  {
   "cell_type": "code",
   "execution_count": null,
   "metadata": {},
   "outputs": [],
   "source": [
    "line3 = LineCollection()\n",
    "line3.add_to_line(wc1)\n",
    "line3.add_to_line(wc2)\n",
    "line3.add_to_line(wc3)"
   ]
  },
  {
   "cell_type": "code",
   "execution_count": null,
   "metadata": {},
   "outputs": [],
   "source": [
    "# Servicing customers with cinema capacity\n",
    "# Test case: capacity = 10. Receive all customers in line\n",
    "cinema = Cinema()\n",
    "\n",
    "cinema.add_customer(line3)"
   ]
  },
  {
   "cell_type": "code",
   "execution_count": null,
   "metadata": {},
   "outputs": [],
   "source": [
    "for cus in cinema.seat:\n",
    "    print(cus)"
   ]
  },
  {
   "cell_type": "markdown",
   "metadata": {},
   "source": [
    "# Testing for receive random movies (Stack)"
   ]
  },
  {
   "cell_type": "code",
   "execution_count": 2,
   "metadata": {},
   "outputs": [
    {
     "name": "stdout",
     "output_type": "stream",
     "text": [
      "######## Waiting for too long for a new movie. So add a movie from favourite movie Titanic, duration: 200 ########\n"
     ]
    },
    {
     "data": {
      "text/plain": [
       "<customize_collection.Stack at 0x1c7a3d242e0>"
      ]
     },
     "execution_count": 2,
     "metadata": {},
     "output_type": "execute_result"
    }
   ],
   "source": [
    "movies = MovieCollection()\n",
    "movies.receive_movie()\n",
    "\n"
   ]
  },
  {
   "cell_type": "code",
   "execution_count": 3,
   "metadata": {},
   "outputs": [
    {
     "name": "stdout",
     "output_type": "stream",
     "text": [
      "Titanic, duration: 200\n"
     ]
    }
   ],
   "source": [
    "print(movies.display_movie())"
   ]
  },
  {
   "cell_type": "code",
   "execution_count": null,
   "metadata": {},
   "outputs": [],
   "source": []
  }
 ],
 "metadata": {
  "kernelspec": {
   "display_name": "Python 3 (ipykernel)",
   "language": "python",
   "name": "python3"
  },
  "language_info": {
   "codemirror_mode": {
    "name": "ipython",
    "version": 3
   },
   "file_extension": ".py",
   "mimetype": "text/x-python",
   "name": "python",
   "nbconvert_exporter": "python",
   "pygments_lexer": "ipython3",
   "version": "3.10.2"
  },
  "vscode": {
   "interpreter": {
    "hash": "3bc1a11519d29b3ed6f08646f3ece60640217e649724c6bcfd38e1173c1a1bce"
   }
  }
 },
 "nbformat": 4,
 "nbformat_minor": 4
}
