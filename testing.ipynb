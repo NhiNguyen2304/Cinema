{
 "cells": [
  {
   "cell_type": "code",
   "execution_count": 1,
   "metadata": {},
   "outputs": [],
   "source": [
    "import random\n",
    "import csv\n",
    "from cinema_collection import LineCollection, Cinema\n",
    "from customer import Customer\n",
    "from binary_search_tree import BTree\n",
    "from movie_collection import MovieCollection, Movie"
   ]
  },
  {
   "cell_type": "markdown",
   "metadata": {},
   "source": [
    "# Testing for Customer data algorithm (Binary Search Tree)"
   ]
  },
  {
   "cell_type": "markdown",
   "metadata": {},
   "source": [
    "##### Testing for insert Customer into Binary Search Tree"
   ]
  },
  {
   "cell_type": "code",
   "execution_count": 2,
   "metadata": {},
   "outputs": [
    {
     "name": "stdout",
     "output_type": "stream",
     "text": [
      "Nina Nguyen, phone: 0450343022, payment: Paypal, screen number: 5\n"
     ]
    }
   ],
   "source": [
    "c0 = Customer('Nina', 'Nguyen','0450343022', 'Paypal', random.randint(1, 10))\n",
    "tree = BTree(c0)\n",
    "print(tree.key)"
   ]
  },
  {
   "cell_type": "code",
   "execution_count": 3,
   "metadata": {},
   "outputs": [
    {
     "name": "stdout",
     "output_type": "stream",
     "text": [
      "Nina Nguyen, phone: 0450343022, payment: Paypal, screen number: 5\n",
      "Cannot delete root\n"
     ]
    }
   ],
   "source": [
    "print(tree.search(Customer('Nina', 'Nguyen', '', '',0)))\n",
    "tree.delete(c0)"
   ]
  },
  {
   "cell_type": "code",
   "execution_count": 4,
   "metadata": {},
   "outputs": [
    {
     "name": "stdout",
     "output_type": "stream",
     "text": [
      "Nina Nguyen, phone: 0450343022, payment: Paypal, screen number: 5\n"
     ]
    }
   ],
   "source": [
    "# Checking for insert correct root item\n",
    "print(tree.key)"
   ]
  },
  {
   "cell_type": "code",
   "execution_count": 5,
   "metadata": {},
   "outputs": [],
   "source": [
    "c1 = Customer('Jim', 'Tomkinson', '0450343234', 'Paypal', 5)\n",
    "c2 = Customer('Richy', 'AAAAA', '13434343', 'Cash', 9)\n",
    "c3 = Customer('Nina', 'Aguyen','0450343022', 'Paypal', 0)\n",
    "c4 = Customer('Apple', 'Zruit','3243434334', 'Paypal', 6)\n",
    "c5 = Customer('Apple', 'Nguyen','4324342', 'Paypal', 3)\n",
    "c6 = Customer('Orange', 'Yran', '0450343234', 'Paypal', 1)\n",
    "c7 = Customer('Hope', 'Pomkinson', '13438343', 'Cash', 7)\n",
    "c8 = Customer('Gigi', 'Bguyen','0450342022', 'Paypal', 8)\n",
    "c9 = Customer('Hadid', 'Bert','34234541454', 'Paypal', 2)\n",
    "tree.insert(c1)\n",
    "tree.insert(c2)\n",
    "tree.insert(c3)\n",
    "tree.insert(c4)\n",
    "tree.insert(c5)\n",
    "tree.insert(c6)\n",
    "tree.insert(c7)\n",
    "tree.insert(c8)\n",
    "tree.insert(c9)"
   ]
  },
  {
   "cell_type": "code",
   "execution_count": 6,
   "metadata": {},
   "outputs": [
    {
     "name": "stdout",
     "output_type": "stream",
     "text": [
      "      _________________________________________________Nina Nguyen____________________                             \n",
      "     /                                                                                \\                            \n",
      "Richy AAAAA_____                                                          ______Jim Tomkinson________________      \n",
      "                \\                                                        /                                   \\     \n",
      "           Nina Aguyen___________________________                 Hope Pomkinson                   _____Apple Zruit\n",
      "                                                 \\                                                /                \n",
      "                                      _____Apple Nguyen                                      Orange Yran           \n",
      "                                     /                                                                             \n",
      "                            ____Gigi Bguyen                                                                        \n",
      "                           /                                                                                       \n",
      "                      Hadid Bert                                                                                   \n"
     ]
    }
   ],
   "source": [
    "# print(tree.left_child)\n",
    "# print(tree.right_child)\n",
    "# print(tree.left_child.right_child)\n",
    "# print(tree.left_child.right_child.right_child)\n",
    "\n",
    "## Checking inserted binary search tree is correct by printing out\n",
    "tree.display()"
   ]
  },
  {
   "cell_type": "markdown",
   "metadata": {},
   "source": [
    "##### Testing for search and Delete in Customer Binary Search Tree"
   ]
  },
  {
   "cell_type": "code",
   "execution_count": 7,
   "metadata": {},
   "outputs": [
    {
     "name": "stdout",
     "output_type": "stream",
     "text": [
      "Jim Tomkinson, phone: 0450343234, payment: Paypal, screen number: 5\n",
      "None\n"
     ]
    }
   ],
   "source": [
    "# True case\n",
    "print(tree.search(Customer('Jim','Tomkinson','','','')))\n",
    "\n",
    "# False case\n",
    "print(tree.search(Customer('Jimmmmm','AAAAA','','','')))"
   ]
  },
  {
   "cell_type": "code",
   "execution_count": 8,
   "metadata": {},
   "outputs": [
    {
     "name": "stdout",
     "output_type": "stream",
     "text": [
      "Search before ####\n",
      "Nina Aguyen, phone: 0450343022, payment: Paypal, screen number: 0\n",
      "Search after ####\n",
      "None\n"
     ]
    }
   ],
   "source": [
    "# This test case for search and delete exist customer\n",
    "print('Search before ####')\n",
    "print(tree.search(Customer('Nina','Aguyen','','','')))\n",
    "tree.delete(c3)\n",
    "print('Search after ####')\n",
    "print(tree.search(Customer('Nina','Aguyen','','','')))"
   ]
  },
  {
   "cell_type": "code",
   "execution_count": 9,
   "metadata": {},
   "outputs": [
    {
     "name": "stdout",
     "output_type": "stream",
     "text": [
      "Search before ####\n",
      "None\n",
      "Search after ####\n",
      "None\n"
     ]
    }
   ],
   "source": [
    "# This test case for search and delete non exist customer\n",
    "print('Search before ####')\n",
    "print(tree.search(Customer('Nina','BBBBBB','','','')))\n",
    "tree.delete(c3)\n",
    "print('Search after ####')\n",
    "print(tree.search(Customer('Nina','BBBBBB','','','')))"
   ]
  },
  {
   "cell_type": "markdown",
   "metadata": {},
   "source": [
    "##### Testing for insert 1000 customers from a csv file has 1000 rows"
   ]
  },
  {
   "cell_type": "code",
   "execution_count": 10,
   "metadata": {},
   "outputs": [],
   "source": [
    "c0 = Customer('Nina', 'Nguyen','0450343022', 'Paypal', 9)\n",
    "# inital binary search tree with root\n",
    "db_customer = BTree(c0)\n",
    "# Db csv file with 1000 rows\n",
    "with open('db.csv', newline='') as csv_file:\n",
    "    reader = csv.reader(csv_file)\n",
    "    next(reader, None)  # Skip the header.\n",
    "    # Unpack the row directly in the head of the for loop.\n",
    "    for fname, lname, phone, payment_method, screenNo in reader:\n",
    "        # Convert the numbers to floats.\n",
    "        fname = fname\n",
    "        lname = lname\n",
    "        phone = phone\n",
    "        payment_method = payment_method\n",
    "        screenNo = screenNo\n",
    "        # Now create the Student instance and append it to the list.\n",
    "        db_customer.insert(Customer(fname, lname, phone, payment_method, screenNo))"
   ]
  },
  {
   "cell_type": "code",
   "execution_count": 11,
   "metadata": {},
   "outputs": [
    {
     "name": "stdout",
     "output_type": "stream",
     "text": [
      "Nina Nguyen, phone: 0450343022, payment: Paypal, screen number: 9\n",
      "Buck Josovitz, phone: 8099573339, payment: jcb, screen number: 1\n",
      "Lanie Jenik, phone: 5761740692, payment: jcb, screen number: 9\n",
      "Jayme Primrose, phone: 4906771247, payment: jcb, screen number: 4\n",
      "Tito Whipple, phone: 6311814303, payment: maestro, screen number: 6\n"
     ]
    }
   ],
   "source": [
    "print(db_customer.key)\n",
    "print(db_customer.left_child)\n",
    "print(db_customer.left_child.left_child)\n",
    "print(db_customer.right_child)\n",
    "print(db_customer.right_child.right_child)"
   ]
  },
  {
   "cell_type": "code",
   "execution_count": 12,
   "metadata": {},
   "outputs": [
    {
     "name": "stdout",
     "output_type": "stream",
     "text": [
      "Tito Whipple, phone: 6311814303, payment: maestro, screen number: 6\n"
     ]
    }
   ],
   "source": [
    "## Validate search exist customer\n",
    "print(db_customer.search(Customer('Tito', 'Whipple', '','',0)))"
   ]
  },
  {
   "cell_type": "markdown",
   "metadata": {},
   "source": [
    "# Testing checking customer no of screen (Serving customer)"
   ]
  },
  {
   "cell_type": "code",
   "execution_count": 13,
   "metadata": {},
   "outputs": [],
   "source": [
    "c1 = Customer('Jim', 'Tomkinson', '0450343234', 'Paypal', 5)\n",
    "c2 = Customer('Richy', 'AAAAA', '13434343', 'Cash', 9)\n",
    "c3 = Customer('Nina', 'Aguyen','0450343022', 'Paypal', 0)\n",
    "c4 = Customer('Apple', 'Zruit','3243434334', 'Paypal', 6)\n",
    "c5 = Customer('Apple', 'Nguyen','4324342', 'Paypal', 3)\n",
    "c6 = Customer('Orange', 'Yran', '0450343234', 'Paypal', 1)\n",
    "c7 = Customer('Hope', 'Pomkinson', '13438343', 'Cash', 7)\n",
    "c8 = Customer('Gigi', 'Bguyen','0450342022', 'Paypal', 8)\n",
    "c9 = Customer('Hadid', 'Bert','34234541454', 'Paypal', 9)"
   ]
  },
  {
   "cell_type": "code",
   "execution_count": 14,
   "metadata": {},
   "outputs": [],
   "source": [
    "tree = BTree(c1)\n",
    "tree.insert(c2)\n",
    "tree.insert(c3)\n",
    "tree.insert(c4)\n",
    "tree.insert(c5)\n",
    "tree.insert(c6)\n",
    "tree.insert(c7)\n",
    "tree.insert(c8)\n",
    "tree.insert(c9)"
   ]
  },
  {
   "cell_type": "code",
   "execution_count": 15,
   "metadata": {},
   "outputs": [
    {
     "name": "stdout",
     "output_type": "stream",
     "text": [
      "Receive a free ticket\n"
     ]
    }
   ],
   "source": [
    "# Test case for a free ticket\n",
    "checking_customer_2 = Customer('Hadid', 'Bert', '', '', '')\n",
    "\n",
    "cus_db = tree.search(checking_customer_2)\n",
    "if cus_db.get_no_of_screen() == 9:\n",
    "    print(\"Receive a free ticket\")\n",
    "else:\n",
    "    print(f'Customer no of screen: {cus_db.get_no_of_screen()}')"
   ]
  },
  {
   "cell_type": "code",
   "execution_count": 16,
   "metadata": {},
   "outputs": [
    {
     "name": "stdout",
     "output_type": "stream",
     "text": [
      "Customer no of screen: 5\n"
     ]
    }
   ],
   "source": [
    "# test case for non-free ticket\n",
    "checking_customer = Customer('Jim', 'Tomkinson', '', '', '')\n",
    "\n",
    "cus = tree.search(checking_customer)\n",
    "if cus.get_no_of_screen() == 9:\n",
    "    print(\"Receive a free ticket\")\n",
    "else:\n",
    "    print(f'Customer no of screen: {cus.get_no_of_screen()}')"
   ]
  },
  {
   "cell_type": "code",
   "execution_count": 17,
   "metadata": {},
   "outputs": [
    {
     "name": "stdout",
     "output_type": "stream",
     "text": [
      "None\n",
      "AFTER INSERT. Seerch for customer information\n",
      "Justin Beiber, phone: 7234541454, payment: Paypal, screen number: 1\n"
     ]
    }
   ],
   "source": [
    "non_existed_cus = Customer('Justin', 'Beiber','7234541454', 'Paypal', 1)\n",
    "print(tree.search(non_existed_cus))\n",
    "\n",
    "print(\"AFTER INSERT. Seerch for customer information\")\n",
    "tree.insert(non_existed_cus)\n",
    "print(tree.search(non_existed_cus))"
   ]
  },
  {
   "cell_type": "markdown",
   "metadata": {},
   "source": [
    "# Testing for waiting line customer (QUEUE data structure)"
   ]
  },
  {
   "cell_type": "markdown",
   "metadata": {},
   "source": [
    "#### Test case for insert waiting line with 9 customers"
   ]
  },
  {
   "cell_type": "code",
   "execution_count": 18,
   "metadata": {},
   "outputs": [],
   "source": [
    "wc0 = Customer('Nina', 'Nguyen','0450343022', 'Paypal', 0)\n",
    "wc1 = Customer('Jim', 'Tran', '0450343234', 'Paypal', 0)\n",
    "wc2 = Customer('Richy', 'Tomkinson', '13434343', 'Cash', 0)\n",
    "wc3 = Customer('Nina', 'NNguyen','0450343022', 'Paypal', 0)\n",
    "wc4 = Customer('Coco', 'Tran','34234545454', 'Paypal', 0)\n",
    "wc5 = Customer('Apple', 'Nguyen','4324342', 'Paypal', 0)\n",
    "wc6 = Customer('Orange', 'Tran', '0450343234', 'Paypal', 0)\n",
    "wc7 = Customer('Hope', 'Tomkinson', '13438343', 'Cash', 0)\n",
    "wc8 = Customer('Gigi', 'NNguyen','0450342022', 'Paypal', 0)\n",
    "wc9 = Customer('Hadid', 'Bert','34234541454', 'Paypal', 0)"
   ]
  },
  {
   "cell_type": "code",
   "execution_count": 19,
   "metadata": {},
   "outputs": [
    {
     "data": {
      "text/plain": [
       "True"
      ]
     },
     "execution_count": 19,
     "metadata": {},
     "output_type": "execute_result"
    }
   ],
   "source": [
    "# Checking line when line is empty\n",
    "line = LineCollection()\n",
    "line.isEmpty()\n"
   ]
  },
  {
   "cell_type": "code",
   "execution_count": 20,
   "metadata": {},
   "outputs": [],
   "source": [
    "# Add a customer to Queue\n",
    "wc0 = Customer('Nina', 'Nguyen','0450343022', 'Paypal', 0)\n",
    "line.add_to_line(wc0)"
   ]
  },
  {
   "cell_type": "code",
   "execution_count": 21,
   "metadata": {},
   "outputs": [
    {
     "name": "stdout",
     "output_type": "stream",
     "text": [
      "Nina Nguyen, phone: 0450343022, payment: Paypal, screen number: 0\n"
     ]
    },
    {
     "data": {
      "text/plain": [
       "True"
      ]
     },
     "execution_count": 21,
     "metadata": {},
     "output_type": "execute_result"
    }
   ],
   "source": [
    "# Test case: add a customer and dequeue that customer\n",
    "# => Line should empty\n",
    "customer_in_queue = line.pick_customer()\n",
    "print(customer_in_queue)\n",
    "line.isEmpty()"
   ]
  },
  {
   "cell_type": "code",
   "execution_count": 22,
   "metadata": {},
   "outputs": [
    {
     "name": "stdout",
     "output_type": "stream",
     "text": [
      "Jim Tran, phone: 0450343234, payment: Paypal, screen number: 0\n",
      "Richy Tomkinson, phone: 13434343, payment: Cash, screen number: 0\n",
      "Nina NNguyen, phone: 0450343022, payment: Paypal, screen number: 0\n"
     ]
    },
    {
     "data": {
      "text/plain": [
       "True"
      ]
     },
     "execution_count": 22,
     "metadata": {},
     "output_type": "execute_result"
    }
   ],
   "source": [
    "# Add list of customers\n",
    "# Dequeue all customers => Line should empty now\n",
    "line.add_to_line(wc1)\n",
    "line.add_to_line(wc2)\n",
    "line.add_to_line(wc3)\n",
    "\n",
    "print(line.pick_customer())\n",
    "print(line.pick_customer())\n",
    "print(line.pick_customer())\n",
    "\n",
    "line.isEmpty()\n",
    "\n"
   ]
  },
  {
   "cell_type": "code",
   "execution_count": 23,
   "metadata": {},
   "outputs": [
    {
     "name": "stdout",
     "output_type": "stream",
     "text": [
      "True\n",
      "None\n"
     ]
    }
   ],
   "source": [
    "print(line.isEmpty())\n",
    "print(line.pick_customer())"
   ]
  },
  {
   "cell_type": "code",
   "execution_count": 24,
   "metadata": {},
   "outputs": [],
   "source": [
    "# Add list of 9 customers\n",
    "# Dequeue 8 customers => Line SHOULD NOT empty now\n",
    "\n",
    "line3 = LineCollection()\n",
    "line3.add_to_line(wc0)\n",
    "line3.add_to_line(wc1)\n",
    "line3.add_to_line(wc2)\n",
    "line3.add_to_line(wc3)\n",
    "line3.add_to_line(wc4)\n",
    "line3.add_to_line(wc5)\n",
    "line3.add_to_line(wc6)\n",
    "line3.add_to_line(wc7)\n",
    "line3.add_to_line(wc8)\n",
    "line3.add_to_line(wc9)\n"
   ]
  },
  {
   "cell_type": "code",
   "execution_count": 25,
   "metadata": {},
   "outputs": [
    {
     "name": "stdout",
     "output_type": "stream",
     "text": [
      "10\n",
      "Nina Nguyen, phone: 0450343022, payment: Paypal, screen number: 0\n",
      "Jim Tran, phone: 0450343234, payment: Paypal, screen number: 0\n",
      "Richy Tomkinson, phone: 13434343, payment: Cash, screen number: 0\n",
      "Nina NNguyen, phone: 0450343022, payment: Paypal, screen number: 0\n",
      "Coco Tran, phone: 34234545454, payment: Paypal, screen number: 0\n",
      "Apple Nguyen, phone: 4324342, payment: Paypal, screen number: 0\n",
      "Orange Tran, phone: 0450343234, payment: Paypal, screen number: 0\n",
      "Hope Tomkinson, phone: 13438343, payment: Cash, screen number: 0\n",
      "Gigi NNguyen, phone: 0450342022, payment: Paypal, screen number: 0\n",
      "1\n"
     ]
    },
    {
     "data": {
      "text/plain": [
       "False"
      ]
     },
     "execution_count": 25,
     "metadata": {},
     "output_type": "execute_result"
    }
   ],
   "source": [
    "# checking for line with 9 customers\n",
    "print(len(line3.waiting_line.items))\n",
    "\n",
    "# Checking for dequeue with correctly order FIFO\n",
    "print(line3.pick_customer())\n",
    "print(line3.pick_customer())\n",
    "print(line3.pick_customer())\n",
    "print(line3.pick_customer())\n",
    "print(line3.pick_customer())\n",
    "print(line3.pick_customer())\n",
    "print(line3.pick_customer())\n",
    "print(line3.pick_customer())\n",
    "print(line3.pick_customer())\n",
    "\n",
    "# checking for line with 1 customer\n",
    "print(len(line3.waiting_line.items))\n",
    "line3.isEmpty()"
   ]
  },
  {
   "cell_type": "markdown",
   "metadata": {},
   "source": [
    "### Testing for servicing customer. First come first serve strategy. With different no of customers in line (cinema capacity = 10)"
   ]
  },
  {
   "cell_type": "markdown",
   "metadata": {},
   "source": [
    "##### Test case number of customers in line > cinema capacity"
   ]
  },
  {
   "cell_type": "code",
   "execution_count": 26,
   "metadata": {},
   "outputs": [
    {
     "data": {
      "text/plain": [
       "12"
      ]
     },
     "execution_count": 26,
     "metadata": {},
     "output_type": "execute_result"
    }
   ],
   "source": [
    "wc1 = Customer('Jim', 'Tran', '0450343234', 'Paypal', 0)\n",
    "wc2 = Customer('Richy', 'Tomkinson', '13434343', 'Cash', 0)\n",
    "wc3 = Customer('Nina', 'NNguyen','0450343022', 'Paypal', 0)\n",
    "wc4 = Customer('Coco', 'Tran','34234545454', 'Paypal', 0)\n",
    "wc5 = Customer('Apple', 'Nguyen','4324342', 'Paypal', 0)\n",
    "wc6 = Customer('Orange', 'Tran', '0450343234', 'Paypal', 0)\n",
    "wc7 = Customer('Hope', 'Tomkinson', '13438343', 'Cash', 0)\n",
    "wc8 = Customer('Gigi', 'NNguyen','0450342022', 'Paypal', 0)\n",
    "wc9 = Customer('Hadid', 'Bert','34234541454', 'Paypal', 0)\n",
    "wc10 = Customer('Pep', 'Homkinson', '13438343', 'Cash', 0)\n",
    "wc11 = Customer('Tin', 'Albetr','0450342022', 'Paypal', 0)\n",
    "wc12 = Customer('Connor', 'Mc','34234541454', 'Paypal', 0)\n",
    "\n",
    "\n",
    "line2 = LineCollection()\n",
    "line2.add_to_line(wc1)\n",
    "line2.add_to_line(wc2)\n",
    "line2.add_to_line(wc3)\n",
    "line2.add_to_line(wc4)\n",
    "line2.add_to_line(wc5)\n",
    "line2.add_to_line(wc6)\n",
    "line2.add_to_line(wc7)\n",
    "line2.add_to_line(wc8)\n",
    "line2.add_to_line(wc9)\n",
    "line2.add_to_line(wc10)\n",
    "line2.add_to_line(wc11)\n",
    "line2.add_to_line(wc12)\n",
    "\n",
    "# Check customers in line => expected 12\n",
    "len(line2.waiting_line.items)"
   ]
  },
  {
   "cell_type": "code",
   "execution_count": 27,
   "metadata": {},
   "outputs": [
    {
     "name": "stdout",
     "output_type": "stream",
     "text": [
      "Jim Tran, phone: 0450343234, payment: Paypal, screen number: 0\n",
      "Richy Tomkinson, phone: 13434343, payment: Cash, screen number: 0\n",
      "Nina NNguyen, phone: 0450343022, payment: Paypal, screen number: 0\n",
      "Coco Tran, phone: 34234545454, payment: Paypal, screen number: 0\n",
      "Apple Nguyen, phone: 4324342, payment: Paypal, screen number: 0\n",
      "Orange Tran, phone: 0450343234, payment: Paypal, screen number: 0\n",
      "Hope Tomkinson, phone: 13438343, payment: Cash, screen number: 0\n",
      "Gigi NNguyen, phone: 0450342022, payment: Paypal, screen number: 0\n",
      "Hadid Bert, phone: 34234541454, payment: Paypal, screen number: 0\n",
      "Pep Homkinson, phone: 13438343, payment: Cash, screen number: 0\n"
     ]
    }
   ],
   "source": [
    "# Servicing customers with cinema capacity\n",
    "# Test case: capacity = 10. Receive 10 customer only\n",
    "cinema = Cinema()\n",
    "\n",
    "cinema.add_customer(line2)\n",
    "\n",
    "for cus in cinema.seat:\n",
    "    print(cus)"
   ]
  },
  {
   "cell_type": "code",
   "execution_count": 28,
   "metadata": {},
   "outputs": [
    {
     "data": {
      "text/plain": [
       "2"
      ]
     },
     "execution_count": 28,
     "metadata": {},
     "output_type": "execute_result"
    }
   ],
   "source": [
    "# Check left customer in Line => expected 2\n",
    "len(line2.waiting_line.items)"
   ]
  },
  {
   "cell_type": "code",
   "execution_count": 29,
   "metadata": {},
   "outputs": [
    {
     "data": {
      "text/plain": [
       "False"
      ]
     },
     "execution_count": 29,
     "metadata": {},
     "output_type": "execute_result"
    }
   ],
   "source": [
    "line2.isEmpty()"
   ]
  },
  {
   "cell_type": "code",
   "execution_count": 30,
   "metadata": {},
   "outputs": [
    {
     "data": {
      "text/plain": [
       "True"
      ]
     },
     "execution_count": 30,
     "metadata": {},
     "output_type": "execute_result"
    }
   ],
   "source": [
    "# Clear line\n",
    "line2.clear_line()\n",
    "\n",
    "line2.isEmpty()"
   ]
  },
  {
   "cell_type": "markdown",
   "metadata": {},
   "source": [
    "##### Test case number of customers in line (15) > cinema capacity (10)"
   ]
  },
  {
   "cell_type": "code",
   "execution_count": 31,
   "metadata": {},
   "outputs": [],
   "source": [
    "wc1 = Customer('Jim', 'Tran', '0450343234', 'Paypal', 0)\n",
    "wc2 = Customer('Richy', 'Tomkinson', '13434343', 'Cash', 0)\n",
    "wc3 = Customer('Nina', 'NNguyen','0450343022', 'Paypal', 0)\n",
    "wc4 = Customer('Coco', 'Tran','34234545454', 'Paypal', 0)\n",
    "wc5 = Customer('Apple', 'Nguyen','4324342', 'Paypal', 0)\n",
    "wc6 = Customer('Orange', 'Tran', '0450343234', 'Paypal', 0)\n",
    "wc7 = Customer('Hope', 'Tomkinson', '13438343', 'Cash', 0)\n",
    "wc8 = Customer('Gigi', 'NNguyen','0450342022', 'Paypal', 0)\n",
    "wc9 = Customer('Hadid', 'Bert','34234541454', 'Paypal', 0)\n",
    "wc10 = Customer('Pep', 'Homkinson', '13438343', 'Cash', 0)\n",
    "wc11 = Customer('Tin', 'Albetr','0450342022', 'Paypal', 0)\n",
    "wc12 = Customer('Connor', 'Mc','34234541454', 'Paypal', 0)\n",
    "wc13 = Customer('Pepsi', 'Test','34234541454', 'Paypal', 0)\n",
    "wc14 = Customer('Tin', 'Albetr','0450342022', 'Paypal', 0)\n",
    "wc15 = Customer('Connor', 'Mc','34234541454', 'Paypal', 0)"
   ]
  },
  {
   "cell_type": "code",
   "execution_count": 32,
   "metadata": {},
   "outputs": [],
   "source": [
    "line4 = LineCollection()\n",
    "line4.add_to_line(wc1)\n",
    "line4.add_to_line(wc2)\n",
    "line4.add_to_line(wc3)\n",
    "line4.add_to_line(wc4)\n",
    "line4.add_to_line(wc5)\n",
    "line4.add_to_line(wc6)\n",
    "line4.add_to_line(wc7)\n",
    "line4.add_to_line(wc8)\n",
    "line4.add_to_line(wc9)\n",
    "line4.add_to_line(wc10)\n",
    "line4.add_to_line(wc11)\n",
    "line4.add_to_line(wc12)\n",
    "line4.add_to_line(wc13)\n",
    "line4.add_to_line(wc14)\n",
    "line4.add_to_line(wc15)"
   ]
  },
  {
   "cell_type": "code",
   "execution_count": 33,
   "metadata": {},
   "outputs": [
    {
     "data": {
      "text/plain": [
       "5"
      ]
     },
     "execution_count": 33,
     "metadata": {},
     "output_type": "execute_result"
    }
   ],
   "source": [
    "# Servicing customers with cinema capacity\n",
    "# Test case: capacity = 10. Receive 10 customers in line (15 customers)\n",
    "cinema = Cinema()\n",
    "\n",
    "cinema.add_customer(line4)\n",
    "\n",
    "# Line should still have 5 customers left\n",
    "len(line4.waiting_line.items)"
   ]
  },
  {
   "cell_type": "code",
   "execution_count": 34,
   "metadata": {},
   "outputs": [
    {
     "name": "stdout",
     "output_type": "stream",
     "text": [
      "5\n",
      "AFTER clear waiting line\n",
      "0\n"
     ]
    }
   ],
   "source": [
    "print(len(line4.waiting_line.items))\n",
    "print(\"AFTER clear waiting line\")\n",
    "line4.clear_line()\n",
    "print(len(line4.waiting_line.items))"
   ]
  },
  {
   "cell_type": "markdown",
   "metadata": {},
   "source": [
    "##### Test case number of customers in line < cinema capacity"
   ]
  },
  {
   "cell_type": "code",
   "execution_count": 35,
   "metadata": {},
   "outputs": [],
   "source": [
    "wc1 = Customer('Jim', 'Tran', '0450343234', 'Paypal', 0)\n",
    "wc2 = Customer('Richy', 'Tomkinson', '13434343', 'Cash', 0)\n",
    "wc3 = Customer('Nina', 'NNguyen','0450343022', 'Paypal', 0)"
   ]
  },
  {
   "cell_type": "code",
   "execution_count": 36,
   "metadata": {},
   "outputs": [],
   "source": [
    "line3 = LineCollection()\n",
    "line3.add_to_line(wc1)\n",
    "line3.add_to_line(wc2)\n",
    "line3.add_to_line(wc3)"
   ]
  },
  {
   "cell_type": "code",
   "execution_count": 37,
   "metadata": {},
   "outputs": [
    {
     "name": "stdout",
     "output_type": "stream",
     "text": [
      "Line size: 0\n"
     ]
    }
   ],
   "source": [
    "# Servicing customers with cinema capacity\n",
    "# Test case: capacity = 10. Receive all customers in line\n",
    "cinema = Cinema()\n",
    "\n",
    "cinema.add_customer(line3)\n",
    "\n",
    "print(f'Line size: {len(line3.waiting_line.items)}')"
   ]
  },
  {
   "cell_type": "code",
   "execution_count": 38,
   "metadata": {},
   "outputs": [
    {
     "name": "stdout",
     "output_type": "stream",
     "text": [
      "Jim Tran, phone: 0450343234, payment: Paypal, screen number: 0\n",
      "Richy Tomkinson, phone: 13434343, payment: Cash, screen number: 0\n",
      "Nina NNguyen, phone: 0450343022, payment: Paypal, screen number: 0\n"
     ]
    }
   ],
   "source": [
    "for cus in cinema.seat:\n",
    "    print(cus)"
   ]
  },
  {
   "cell_type": "markdown",
   "metadata": {},
   "source": [
    "# Testing for receive random movies (Stack)"
   ]
  },
  {
   "cell_type": "code",
   "execution_count": 39,
   "metadata": {},
   "outputs": [
    {
     "name": "stdout",
     "output_type": "stream",
     "text": [
      "######## Waiting for too long for a new movie. So add a movie from favourite movie Titanic, duration: 200 ########\n"
     ]
    },
    {
     "data": {
      "text/plain": [
       "<customize_collection.Stack at 0x1606ea29570>"
      ]
     },
     "execution_count": 39,
     "metadata": {},
     "output_type": "execute_result"
    }
   ],
   "source": [
    "movies = MovieCollection()\n",
    "movies.receive_movie()"
   ]
  },
  {
   "cell_type": "code",
   "execution_count": 40,
   "metadata": {},
   "outputs": [
    {
     "name": "stdout",
     "output_type": "stream",
     "text": [
      "Titanic, duration: 200\n"
     ]
    }
   ],
   "source": [
    "print(movies.display_movie())"
   ]
  },
  {
   "cell_type": "code",
   "execution_count": 43,
   "metadata": {},
   "outputs": [
    {
     "name": "stdout",
     "output_type": "stream",
     "text": [
      "######## Receive a new movie #########\n"
     ]
    },
    {
     "data": {
      "text/plain": [
       "<customize_collection.Stack at 0x1606ea29570>"
      ]
     },
     "execution_count": 43,
     "metadata": {},
     "output_type": "execute_result"
    }
   ],
   "source": [
    "movies.receive_movie(1)"
   ]
  },
  {
   "cell_type": "code",
   "execution_count": 44,
   "metadata": {},
   "outputs": [
    {
     "name": "stdout",
     "output_type": "stream",
     "text": [
      "Normal people, duration: 120\n"
     ]
    }
   ],
   "source": [
    "print(movies.display_movie())"
   ]
  }
 ],
 "metadata": {
  "kernelspec": {
   "display_name": "Python 3 (ipykernel)",
   "language": "python",
   "name": "python3"
  },
  "language_info": {
   "codemirror_mode": {
    "name": "ipython",
    "version": 3
   },
   "file_extension": ".py",
   "mimetype": "text/x-python",
   "name": "python",
   "nbconvert_exporter": "python",
   "pygments_lexer": "ipython3",
   "version": "3.10.4"
  },
  "vscode": {
   "interpreter": {
    "hash": "3bc1a11519d29b3ed6f08646f3ece60640217e649724c6bcfd38e1173c1a1bce"
   }
  }
 },
 "nbformat": 4,
 "nbformat_minor": 4
}
