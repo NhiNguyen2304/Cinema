{
 "cells": [
  {
   "cell_type": "code",
   "execution_count": 52,
   "metadata": {},
   "outputs": [],
   "source": [
    "import random\n",
    "import csv\n",
    "from cinema_collection import LineCollection, Cinema\n",
    "from customer import Customer\n",
    "from binary_search_tree import BTree\n",
    "from movie_collection import MovieCollection, Movie"
   ]
  },
  {
   "cell_type": "markdown",
   "metadata": {},
   "source": [
    "# Testing for Customer data algorithm (Binary Search Tree)"
   ]
  },
  {
   "cell_type": "markdown",
   "metadata": {},
   "source": []
  },
  {
   "cell_type": "code",
   "execution_count": 53,
   "metadata": {},
   "outputs": [],
   "source": [
    "c0 = Customer('Nina', 'Nguyen','0450343022', 'Paypal', random.randint(1, 10))\n",
    "tree = BTree(c0)"
   ]
  },
  {
   "cell_type": "code",
   "execution_count": 54,
   "metadata": {},
   "outputs": [
    {
     "name": "stdout",
     "output_type": "stream",
     "text": [
      "Nina Nguyen, phone: 0450343022, payment: Paypal, screen number: 3\n"
     ]
    }
   ],
   "source": [
    "# Checking for insert correct root item\n",
    "print(tree.key)"
   ]
  },
  {
   "cell_type": "code",
   "execution_count": 55,
   "metadata": {},
   "outputs": [],
   "source": [
    "c1 = Customer('Jim', 'AAAAA', '0450343234', 'Paypal', 5)\n",
    "c2 = Customer('Richy', 'Tomkinson', '13434343', 'Cash', 9)\n",
    "c3 = Customer('Nina', 'Aguyen','0450343022', 'Paypal', 0)\n",
    "c4 = Customer('Apple', 'Fruit','3243434334', 'Paypal', 6)\n",
    "tree.insert(c1)\n",
    "tree.insert(c2)\n",
    "tree.insert(c3)\n",
    "tree.insert(c4)"
   ]
  },
  {
   "cell_type": "code",
   "execution_count": 56,
   "metadata": {},
   "outputs": [
    {
     "name": "stdout",
     "output_type": "stream",
     "text": [
      "Jim AAAAA, phone: 0450343234, payment: Paypal, screen number: 5\n",
      "Richy Tomkinson, phone: 13434343, payment: Cash, screen number: 9\n",
      "Nina Aguyen, phone: 0450343022, payment: Paypal, screen number: 0\n"
     ]
    }
   ],
   "source": [
    "print(tree.left_child)\n",
    "print(tree.right_child)\n",
    "print(tree.left_child.right_child)"
   ]
  },
  {
   "cell_type": "code",
   "execution_count": 57,
   "metadata": {},
   "outputs": [
    {
     "name": "stdout",
     "output_type": "stream",
     "text": [
      "Jim AAAAA, phone: 0450343234, payment: Paypal, screen number: 5\n",
      "None\n"
     ]
    }
   ],
   "source": [
    "# True case\n",
    "print(tree.search(Customer('Jim','AAAAA','','','')))\n",
    "\n",
    "# False case\n",
    "print(tree.search(Customer('Jimmmmm','AAAAA','','','')))"
   ]
  },
  {
   "cell_type": "code",
   "execution_count": 58,
   "metadata": {},
   "outputs": [
    {
     "name": "stdout",
     "output_type": "stream",
     "text": [
      "Search before ####\n",
      "Nina Aguyen, phone: 0450343022, payment: Paypal, screen number: 0\n",
      "Search after ####\n",
      "None\n"
     ]
    }
   ],
   "source": [
    "print('Search before ####')\n",
    "print(tree.search(Customer('Nina','Aguyen','','','')))\n",
    "tree.delete(c3)\n",
    "print('Search after ####')\n",
    "print(tree.search(Customer('Nina','Aguyen','','','')))"
   ]
  },
  {
   "cell_type": "markdown",
   "metadata": {},
   "source": [
    "### Testing checking customer no of screen"
   ]
  },
  {
   "cell_type": "code",
   "execution_count": 59,
   "metadata": {},
   "outputs": [
    {
     "name": "stdout",
     "output_type": "stream",
     "text": [
      "Customer no of screen: 6\n"
     ]
    }
   ],
   "source": [
    "checking_customer_2 = Customer('Apple', 'Fruit', '', '', '')\n",
    "\n",
    "cus_db = tree.search(checking_customer_2)\n",
    "if cus_db.get_no_of_screen() == 9:\n",
    "    print(\"Receive a free ticket\")\n",
    "else:\n",
    "    print(f'Customer no of screen: {cus_db.get_no_of_screen()}')"
   ]
  },
  {
   "cell_type": "code",
   "execution_count": 60,
   "metadata": {},
   "outputs": [
    {
     "name": "stdout",
     "output_type": "stream",
     "text": [
      "Receive a free ticket\n"
     ]
    }
   ],
   "source": [
    "checking_customer = Customer('Richy', 'Tomkinson', '', '', '')\n",
    "\n",
    "cus = tree.search(checking_customer)\n",
    "if cus.get_no_of_screen() == 9:\n",
    "    print(\"Receive a free ticket\")\n",
    "else:\n",
    "    print(f'Customer no of screen: {checking_customer.get_no_of_screen()}')"
   ]
  },
  {
   "cell_type": "markdown",
   "metadata": {},
   "source": [
    "# Testing for waiting line customer (QUEUE data structure)"
   ]
  },
  {
   "cell_type": "code",
   "execution_count": 61,
   "metadata": {},
   "outputs": [],
   "source": [
    "wc0 = Customer('Nina', 'Nguyen','0450343022', 'Paypal', 0)\n",
    "wc1 = Customer('Jim', 'Tran', '0450343234', 'Paypal', 0)\n",
    "wc2 = Customer('Richy', 'Tomkinson', '13434343', 'Cash', 0)\n",
    "wc3 = Customer('Nina', 'NNguyen','0450343022', 'Paypal', 0)\n",
    "wc4 = Customer('Coco', 'Tran','34234545454', 'Paypal', 0)\n",
    "wc5 = Customer('Apple', 'Nguyen','4324342', 'Paypal', 0)\n",
    "wc6 = Customer('Orange', 'Tran', '0450343234', 'Paypal', 0)\n",
    "wc7 = Customer('Hope', 'Tomkinson', '13438343', 'Cash', 0)\n",
    "wc8 = Customer('Gigi', 'NNguyen','0450342022', 'Paypal', 0)\n",
    "wc9 = Customer('Hadid', 'Bert','34234541454', 'Paypal', 0)"
   ]
  },
  {
   "cell_type": "code",
   "execution_count": 62,
   "metadata": {},
   "outputs": [
    {
     "data": {
      "text/plain": [
       "True"
      ]
     },
     "execution_count": 62,
     "metadata": {},
     "output_type": "execute_result"
    }
   ],
   "source": [
    "line = LineCollection()\n",
    "line.isEmpty()\n"
   ]
  },
  {
   "cell_type": "code",
   "execution_count": 63,
   "metadata": {},
   "outputs": [
    {
     "data": {
      "text/plain": [
       "True"
      ]
     },
     "execution_count": 63,
     "metadata": {},
     "output_type": "execute_result"
    }
   ],
   "source": [
    "line.add_to_line(wc0)\n",
    "customer_in_queue = line.pick_customer()\n",
    "line.isEmpty()"
   ]
  },
  {
   "cell_type": "code",
   "execution_count": 64,
   "metadata": {},
   "outputs": [],
   "source": [
    "line.add_to_line(wc1)\n",
    "line.add_to_line(wc2)\n",
    "line.add_to_line(wc3)\n",
    "line.add_to_line(wc4)\n",
    "line.add_to_line(wc5)\n",
    "line.add_to_line(wc6)\n",
    "line.add_to_line(wc7)\n",
    "line.add_to_line(wc8)\n",
    "line.add_to_line(wc9)"
   ]
  },
  {
   "cell_type": "code",
   "execution_count": 65,
   "metadata": {},
   "outputs": [],
   "source": [
    "#line.display_waiting_line()"
   ]
  },
  {
   "cell_type": "markdown",
   "metadata": {},
   "source": [
    "### Testing for servicing customer. First come first serve strategy"
   ]
  },
  {
   "cell_type": "markdown",
   "metadata": {},
   "source": []
  },
  {
   "cell_type": "code",
   "execution_count": 66,
   "metadata": {},
   "outputs": [
    {
     "name": "stdout",
     "output_type": "stream",
     "text": [
      "Jim Tran, phone: 0450343234, payment: Paypal, screen number: 0\n",
      "Richy Tomkinson, phone: 13434343, payment: Cash, screen number: 0\n",
      "Nina NNguyen, phone: 0450343022, payment: Paypal, screen number: 0\n",
      "Coco Tran, phone: 34234545454, payment: Paypal, screen number: 0\n",
      "Apple Nguyen, phone: 4324342, payment: Paypal, screen number: 0\n"
     ]
    }
   ],
   "source": [
    "# Servicing customers with cinema capacity\n",
    "# For example cinema has 5 capacity only accept 2 \n",
    "for i in range(5):\n",
    "    customer_in_queue = line.pick_customer()\n",
    "    print(customer_in_queue)"
   ]
  },
  {
   "cell_type": "code",
   "execution_count": 67,
   "metadata": {},
   "outputs": [],
   "source": [
    "# Clear the line after reach cinema capacity\n",
    "line.clear_line()"
   ]
  },
  {
   "cell_type": "code",
   "execution_count": 68,
   "metadata": {},
   "outputs": [
    {
     "data": {
      "text/plain": [
       "True"
      ]
     },
     "execution_count": 68,
     "metadata": {},
     "output_type": "execute_result"
    }
   ],
   "source": [
    "line.isEmpty()"
   ]
  },
  {
   "cell_type": "code",
   "execution_count": null,
   "metadata": {},
   "outputs": [],
   "source": [
    "line.add_to_line(wc1)\n",
    "line.isEmpty()"
   ]
  }
 ],
 "metadata": {
  "kernelspec": {
   "display_name": "Python 3.10.4 64-bit",
   "language": "python",
   "name": "python3"
  },
  "language_info": {
   "codemirror_mode": {
    "name": "ipython",
    "version": 3
   },
   "file_extension": ".py",
   "mimetype": "text/x-python",
   "name": "python",
   "nbconvert_exporter": "python",
   "pygments_lexer": "ipython3",
   "version": "3.10.4"
  },
  "orig_nbformat": 4,
  "vscode": {
   "interpreter": {
    "hash": "3bc1a11519d29b3ed6f08646f3ece60640217e649724c6bcfd38e1173c1a1bce"
   }
  }
 },
 "nbformat": 4,
 "nbformat_minor": 2
}
